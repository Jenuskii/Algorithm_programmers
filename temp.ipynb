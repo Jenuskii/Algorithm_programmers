{
 "cells": [
  {
   "cell_type": "code",
   "execution_count": 50,
   "metadata": {},
   "outputs": [],
   "source": [
    "values = [1,10,100,1000,10000]\n",
    "edges = [[1,2],[1,3],[2,4],[2,5]]\n",
    "queries = [[1,-1],[2,-1],[3,-1],[4,-1],[5,-1],[4,1000],[1,-1],[2,-1],[3,-1],[4,-1],[5,-1],[2,1],[1,-1],[2,-1],[3,-1],[4,-1],[5,-1]]\n",
    "results = [11111,11010,100,1000,10000,11111,10011,100,10,10000,11111,11010,100,10,10000]\n",
    "val = [0] + values\n",
    "FATHER = dict()\n",
    "for i in edges:\n",
    "    father, kid = i\n",
    "    FATHER[kid] = father"
   ]
  },
  {
   "cell_type": "code",
   "execution_count": 51,
   "metadata": {},
   "outputs": [
    {
     "name": "stdout",
     "output_type": "stream",
     "text": [
      "11111\n"
     ]
    }
   ],
   "source": [
    "len_e = len(edges)\n",
    "\n",
    "def Q1(n):\n",
    "    if n not in [edges[i][0] for i in range(len_e)]:\n",
    "        return val[n]\n",
    "    else:\n",
    "        return val[n] + sum([Q1(m) for m in set([edges[i][1] for i in range(len_e) if edges[i][0]  == n])])\n",
    "    \n",
    "print(Q1(1))"
   ]
  },
  {
   "cell_type": "code",
   "execution_count": 52,
   "metadata": {},
   "outputs": [
    {
     "name": "stdout",
     "output_type": "stream",
     "text": [
      "['null', 'null', 'null', 100, 1000, 10000]\n",
      "11111\n",
      "['null', 11111, 11010, 100, 1000, 10000]\n"
     ]
    }
   ],
   "source": [
    "len_e = len(edges)\n",
    "dp = ['null'] * len(val)\n",
    "for n in ({i for i in range(1,len(val))} - set([edges[i][0] for i in range(len_e)])):\n",
    "    dp[n] = val[n]\n",
    "\n",
    "def Q1(n):\n",
    "    if dp[n] != 'null':\n",
    "        return dp[n]\n",
    "    else:\n",
    "        dp[n] = val[n] + sum([Q1(m) for m in set([edges[i][1] for i in range(len_e) if edges[i][0]  == n])])\n",
    "    return dp[n]\n",
    "\n",
    "test = 1\n",
    "print(dp)\n",
    "print(Q1(test))\n",
    "print(dp)"
   ]
  },
  {
   "cell_type": "code",
   "execution_count": 53,
   "metadata": {},
   "outputs": [
    {
     "name": "stdout",
     "output_type": "stream",
     "text": [
      "None\n",
      "['null', 11111, 11010, 100, 1000, 10000]\n"
     ]
    }
   ],
   "source": [
    "def Q2(u,w):\n",
    "    now = u\n",
    "    while now != 1:\n",
    "        val[now] = val[FATHER[now]]\n",
    "        now = FATHER[now]\n",
    "    val[now] = w\n",
    "\n",
    "print(Q2(4,1000))\n",
    "print(dp)   "
   ]
  },
  {
   "cell_type": "code",
   "execution_count": 48,
   "metadata": {},
   "outputs": [
    {
     "data": {
      "text/plain": [
       "['null', 'null', 'null', 'null', 'null', 'null']"
      ]
     },
     "execution_count": 48,
     "metadata": {},
     "output_type": "execute_result"
    }
   ],
   "source": [
    "dp = ['null'] * len(val)\n",
    "dp"
   ]
  },
  {
   "cell_type": "code",
   "execution_count": 27,
   "metadata": {},
   "outputs": [
    {
     "data": {
      "text/plain": [
       "11111"
      ]
     },
     "execution_count": 27,
     "metadata": {},
     "output_type": "execute_result"
    }
   ],
   "source": [
    "Q1(1)"
   ]
  },
  {
   "cell_type": "code",
   "execution_count": null,
   "metadata": {},
   "outputs": [],
   "source": []
  }
 ],
 "metadata": {
  "interpreter": {
   "hash": "f5cb08bc83711cf68b2bcabaf662a3caf3b16f0b6255a8552bf8881629a58e10"
  },
  "kernelspec": {
   "display_name": "Python 3.9.7 64-bit ('my3_9_7': venv)",
   "name": "python3"
  },
  "language_info": {
   "codemirror_mode": {
    "name": "ipython",
    "version": 3
   },
   "file_extension": ".py",
   "mimetype": "text/x-python",
   "name": "python",
   "nbconvert_exporter": "python",
   "pygments_lexer": "ipython3",
   "version": "3.9.7"
  },
  "orig_nbformat": 4
 },
 "nbformat": 4,
 "nbformat_minor": 2
}
